{
 "metadata": {
  "name": "tarea 1 cc2.ipynb",
  "signature": "sha256:80344d6e54b01ae9ae1564a475d12917881c73695f3b1fdddaae1db7b711f1e4"
 },
 "nbformat": 3,
 "nbformat_minor": 0,
 "worksheets": [
  {
   "cells": [
    {
     "cell_type": "heading",
     "level": 1,
     "metadata": {},
     "source": [
      "Laboratorio 1 Computaci\u00f3n cientifica 2"
     ]
    },
    {
     "cell_type": "raw",
     "metadata": {},
     "source": [
      "Eva Moya          201173597-8   eva.moya@alumnos.usm.cl\n",
      "Sebasti\u00e1n Tapia   201173599-4   sebastian.tapia@alumnos.usm.cl"
     ]
    },
    {
     "cell_type": "heading",
     "level": 1,
     "metadata": {},
     "source": [
      "Introduccion"
     ]
    },
    {
     "cell_type": "markdown",
     "metadata": {},
     "source": [
      "En el presente informe se realizaran modificaciones a algoritmos  conocidos para poder obtener los valore y vectores propios  no totalmente dominantes.\n",
      "Tambi\u00e9n se utilizaran estos algoritmos para analizar diferentes matrices a modo de lograr una mejor comprensi\u00f3n de los datos.\n",
      "Por \u00faltimo se analizar\u00e1  los valores propios de una gran matriz para as\u00ed poder compararlos y analizarlos correctamente"
     ]
    },
    {
     "cell_type": "heading",
     "level": 2,
     "metadata": {},
     "source": [
      "Latex"
     ]
    },
    {
     "cell_type": "markdown",
     "metadata": {},
     "source": [
      "\\begin{align*}\n",
      "c = \\int_a^b f(x) dx & \\approx \\sum f(x_i) \\Delta x\n",
      "\\end{align*}\n",
      "$$a_{b_{c}}$$"
     ]
    },
    {
     "cell_type": "heading",
     "level": 2,
     "metadata": {},
     "source": [
      "1) Modificaci\u00f3n de Algoritmos Conocidos"
     ]
    },
    {
     "cell_type": "markdown",
     "metadata": {},
     "source": [
      "Inicialmente de definen las librerias a usar."
     ]
    },
    {
     "cell_type": "code",
     "collapsed": false,
     "input": [
      "from  numpy import  *\n",
      "import numpy as np\n",
      "from scipy import *\n",
      "from matplotlib import *\n",
      "from numpy.linalg import norm, solve\n"
     ],
     "language": "python",
     "metadata": {},
     "outputs": [],
     "prompt_number": 1
    },
    {
     "cell_type": "markdown",
     "metadata": {},
     "source": [
      "Luego se crean las funciones nesesarias."
     ]
    },
    {
     "cell_type": "code",
     "collapsed": false,
     "input": [
      "def crear_matriz():\n",
      "    matriz1 =[]\n",
      "    file = open('associations.dat', 'r')\n",
      "    i=0\n",
      "    for linea in file:\n",
      "        if linea[-1] == '\\n':\n",
      "\t\tlinea = linea[:-1]\n",
      "        linea = linea.split(':')\n",
      "        matriz1.append(float(linea[2]))\n",
      "        i=i+1\n",
      "    matriz=np.array(matriz1)\n",
      "    matriz=np.reshape(matriz,(20,40))\n",
      "    return matriz"
     ],
     "language": "python",
     "metadata": {},
     "outputs": [],
     "prompt_number": 2
    },
    {
     "cell_type": "code",
     "collapsed": false,
     "input": [
      "def pregunta1(matriz):\n",
      "    matriz_transpuesta=matriz.transpose()\n",
      "    matriz_a=np.dot(matriz,matriz_transpuesta)\n",
      "    return matriz_a"
     ],
     "language": "python",
     "metadata": {},
     "outputs": [],
     "prompt_number": 3
    },
    {
     "cell_type": "code",
     "collapsed": false,
     "input": [
      "def initial():\n",
      "    x=np.ones((20))\n",
      "    return x"
     ],
     "language": "python",
     "metadata": {},
     "outputs": [],
     "prompt_number": 4
    },
    {
     "cell_type": "markdown",
     "metadata": {},
     "source": [
      "El algoritmo de Power Iteration"
     ]
    },
    {
     "cell_type": "code",
     "collapsed": false,
     "input": [
      "def power(x,a):\n",
      "    val_prop_ant=0\n",
      "    val_prop=1\n",
      "    while val_prop!= val_prop_ant:\n",
      "        val_prop_ant=val_prop\n",
      "        u =x/norm(x)\n",
      "        x=np.dot(a,u)\n",
      "        val_prop=float(np.dot(np.dot(u.T,a),u))\n",
      "    u=x/norm(x)\n",
      "    return val_prop,u"
     ],
     "language": "python",
     "metadata": {},
     "outputs": [],
     "prompt_number": 5
    },
    {
     "cell_type": "markdown",
     "metadata": {},
     "source": [
      "El algoritmo de Rayleigh"
     ]
    },
    {
     "cell_type": "code",
     "collapsed": false,
     "input": [
      "def rayleigh(x,a):\n",
      "    val_prop_ant=0\n",
      "    val_prop=1\n",
      "    while val_prop!= val_prop_ant:\n",
      "        val_prop_ant=val_prop\n",
      "        u =x/norm(x)\n",
      "        val_prop=float(np.dot(np.dot(u.T,a),u))\n",
      "        x = solve(a -val_prop*np.eye(*a.shape), u)\n",
      "    u=x/norm(x)\n",
      "    print(\"el valor propios es:\",val_prop)\n",
      "    print(\"el vector propio es:\",u)"
     ],
     "language": "python",
     "metadata": {},
     "outputs": [],
     "prompt_number": 6
    },
    {
     "cell_type": "markdown",
     "metadata": {},
     "source": [
      "El algoritmo de QR"
     ]
    },
    {
     "cell_type": "code",
     "collapsed": false,
     "input": [
      "def unshiftedqr(A,k):\n",
      "    m = A.shape[0]\n",
      "    Q = eye(m)\n",
      "    Qbar = Q.copy(); R = A.copy()\n",
      "    for j in range(k):\n",
      "        Q,R = linalg.qr( dot(R,Q) )\t# QR factorization\n",
      "        Qbar = dot(Qbar,Q)\n",
      "    lam = diag( dot(R,Q) )\t# Rayleigh quotient\n",
      "    print(\"El primer valor propios es:\",lam[0])\n",
      "    print(\"El segundo valor propios es:\",lam[1])\n",
      "    print(\"El primer vector propio es:\",Qbar[0])\n",
      "    print(\"El segundo vector propio es:\",Qbar[1])\n",
      "    return lam,Qbar"
     ],
     "language": "python",
     "metadata": {},
     "outputs": [],
     "prompt_number": 7
    },
    {
     "cell_type": "code",
     "collapsed": false,
     "input": [
      "def matriz5():\n",
      "    matriz=np.random.rand(5,5)\n",
      "    return matriz\n",
      "\n",
      "def matriz10():\n",
      "    matriz=np.random.rand(10,10)\n",
      "    return matriz"
     ],
     "language": "python",
     "metadata": {},
     "outputs": [],
     "prompt_number": 8
    },
    {
     "cell_type": "markdown",
     "metadata": {},
     "source": [
      "Ahora se escribe la funcion main para la pregunta 2"
     ]
    },
    {
     "cell_type": "markdown",
     "metadata": {},
     "source": [
      "Se  realizo el calculo de:\n",
      "$$A= TT^{t}$$\n",
      "    "
     ]
    },
    {
     "cell_type": "code",
     "collapsed": false,
     "input": [
      "matriz=crear_matriz()#obtencion de datos del archivo.dat\n",
      "matriz_a=pregunta1(matriz)#Matriz similitud\n",
      "\n"
     ],
     "language": "python",
     "metadata": {},
     "outputs": [],
     "prompt_number": 9
    },
    {
     "cell_type": "markdown",
     "metadata": {},
     "source": [
      "Para la siguiente pregunta  se analizara el caso de la matriz de 5X5"
     ]
    },
    {
     "cell_type": "code",
     "collapsed": false,
     "input": [
      "def matriz5x5():\n",
      "    x0=np.ones((5,1))#vector X0\n",
      "    matriz=matriz5()#obtencion de la matriz de 5X5\n",
      "    print(\"Para el algoritmo de power iteration  los siguientes son sus resultados\")\n",
      "    val_prop,vector=power(x0,matriz)\n",
      "    matriz2 = matriz - np.dot(val_prop,np.dot(vector,vector.T))\n",
      "    valprop2,vector2=power(x0,matriz2)\n",
      "    print(\"primer valor dominante\",val_prop)\n",
      "    print(\"segundo valor dominante\",valprop2)\n",
      "    print(\"esto es primer vectorprop\",vector)\n",
      "    print(\"esto es segundo vectorprop\",vector2)\n",
      "\n",
      "    print(\"Para el algoritmo de rayleigh  los siguientes son sus resultados\")\n",
      "    #rayleigh(x0,matriz)\n",
      "    print(\"Para el algoritmo de unshifted qr  los siguientes son sus resultados\")\n",
      "    unshiftedqr(matriz,6)\n"
     ],
     "language": "python",
     "metadata": {},
     "outputs": [],
     "prompt_number": 10
    },
    {
     "cell_type": "code",
     "collapsed": false,
     "input": [
      "matriz5x5()"
     ],
     "language": "python",
     "metadata": {},
     "outputs": [
      {
       "output_type": "stream",
       "stream": "stdout",
       "text": [
        "Para el algoritmo de power iteration  los siguientes son sus resultados\n",
        "('primer valor dominante', 2.356118748710953)\n",
        "('segundo valor dominante', 0.5644242481615833)\n",
        "('esto es primer vectorprop', array([[ 0.48565766],\n",
        "       [ 0.58133014],\n",
        "       [ 0.39051189],\n",
        "       [ 0.28782943],\n",
        "       [ 0.43685992]]))\n",
        "('esto es segundo vectorprop', array([[-0.38225174],\n",
        "       [ 0.56500603],\n",
        "       [ 0.61326797],\n",
        "       [ 0.30715099],\n",
        "       [ 0.25340176]]))\n",
        "Para el algoritmo de rayleigh  los siguientes son sus resultados\n",
        "Para el algoritmo de unshifted qr  los siguientes son sus resultados\n",
        "('El primer valor propios es:', 2.3557947170785134)\n",
        "('El segundo valor propios es:', 0.52958447070902492)\n",
        "('El primer vector propio es:', array([ 0.48615288, -0.8463009 ,  0.15650813,  0.06890384, -0.13486155]))\n",
        "('El segundo vector propio es:', array([ 0.58123284,  0.21941943,  0.1129842 , -0.49601448,  0.59600981]))\n"
       ]
      }
     ],
     "prompt_number": 11
    },
    {
     "cell_type": "markdown",
     "metadata": {},
     "source": [
      "Para la siguiente pregunta se analiza el caso de una matriz de 10X10"
     ]
    },
    {
     "cell_type": "code",
     "collapsed": false,
     "input": [
      "def matriz10x10():\n",
      "    x0=np.ones((10,1))\n",
      "    matriz=matriz10()\n",
      "    print(\"Para el algoritmo de power iteration  los siguientes son sus resultados\")\n",
      "    val_prop,vector=power(x0,matriz)\n",
      "    matriz2 = matriz - np.dot(val_prop,np.dot(vector,vector.T))\n",
      "    valprop2,vector2=power(x0,matriz2)\n",
      "    print(\"primer valor dominante\",val_prop)\n",
      "    print(\"segundo valor dominante\",valprop2)\n",
      "    print(\"esto es primer vectorprop\",vector)\n",
      "    print(\"esto es segundo vectorprop\",vector2)\n",
      "    print(\"Para el algoritmo de rayleigh  los siguientes son sus resultados\")\n",
      "    #rayleigh(x00,matriz1)\n",
      "    print(\"Para el algoritmo de unshifted qr  los siguientes son sus resultados\")\n",
      "    unshiftedqr(matriz,6)"
     ],
     "language": "python",
     "metadata": {},
     "outputs": [],
     "prompt_number": 12
    },
    {
     "cell_type": "code",
     "collapsed": false,
     "input": [
      "matriz10x10()"
     ],
     "language": "python",
     "metadata": {},
     "outputs": [
      {
       "output_type": "stream",
       "stream": "stdout",
       "text": [
        "Para el algoritmo de power iteration  los siguientes son sus resultados\n",
        "('primer valor dominante', 5.031209956330088)\n",
        "('segundo valor dominante', 0.7259390033520918)\n",
        "('esto es primer vectorprop', array([[ 0.26517261],\n",
        "       [ 0.26781428],\n",
        "       [ 0.4112412 ],\n",
        "       [ 0.46106255],\n",
        "       [ 0.23404973],\n",
        "       [ 0.23663426],\n",
        "       [ 0.33133982],\n",
        "       [ 0.28574624],\n",
        "       [ 0.21419629],\n",
        "       [ 0.35800686]]))\n",
        "('esto es segundo vectorprop', array([[ 0.45501239],\n",
        "       [ 0.42776483],\n",
        "       [ 0.19855883],\n",
        "       [ 0.28485106],\n",
        "       [-0.10592519],\n",
        "       [-0.34094923],\n",
        "       [ 0.23425658],\n",
        "       [ 0.32115465],\n",
        "       [ 0.39138126],\n",
        "       [-0.22528419]]))\n",
        "Para el algoritmo de rayleigh  los siguientes son sus resultados\n",
        "Para el algoritmo de unshifted qr  los siguientes son sus resultados\n",
        "('El primer valor propios es:', 5.031220619882566)\n",
        "('El segundo valor propios es:', 0.12365458898892541)\n",
        "('El primer vector propio es:', array([ 0.26518422, -0.10317019, -0.49979534,  0.54089606,  0.12379672,\n",
        "        0.2476387 , -0.396438  , -0.01022581, -0.36398276,  0.10132941]))\n",
        "('El segundo vector propio es:', array([ 0.26782282,  0.30005663,  0.18345655,  0.44368041,  0.33675732,\n",
        "       -0.23997329,  0.26575439,  0.24268983,  0.3019009 ,  0.4648309 ]))\n"
       ]
      }
     ],
     "prompt_number": 13
    },
    {
     "cell_type": "markdown",
     "metadata": {},
     "source": [
      "hacer conclucion  de porque algunos son  negativos y eso se da por alternancia enlas iteraciones"
     ]
    },
    {
     "cell_type": "markdown",
     "metadata": {},
     "source": [
      "Ahora se aplicara  las 3 tecnicas a la matriz a"
     ]
    },
    {
     "cell_type": "code",
     "collapsed": false,
     "input": [
      "t= initial()\n",
      "print(\"Para el algoritmo de power iteration  los siguientes son sus resultados\")\n",
      "power(t,matriz_a)\n",
      "print(\"Para el algoritmo de rayleigh  los siguientes son sus resultados\")\n",
      "rayleigh(t,matriz_a)\n",
      "print(\"Para el algoritmo de unshifted qr  los siguientes son sus resultados\")\n",
      "unshiftedqr(matriz_a,6)"
     ],
     "language": "python",
     "metadata": {},
     "outputs": [
      {
       "output_type": "stream",
       "stream": "stdout",
       "text": [
        "Para el algoritmo de power iteration  los siguientes son sus resultados\n",
        "('el valor propios es:', 188.32400790123594)\n",
        "('el vector propio es:', array([ 0.2234647 ,  0.21786955,  0.22732466,  0.25836781,  0.19544841,\n",
        "        0.20597503,  0.18641389,  0.20882768,  0.22948614,  0.24089436,\n",
        "        0.23016629,  0.27512357,  0.2042056 ,  0.19768252,  0.25744274,\n",
        "        0.20672521,  0.23346341,  0.23239697,  0.22628495,  0.19054859]))\n",
        "Para el algoritmo de rayleigh  los siguientes son sus resultados\n",
        "('el valor propios es:', 188.32400790123594)\n",
        "('el vector propio es:', array([-0.2234647 , -0.21786955, -0.22732466, -0.25836781, -0.19544841,\n",
        "       -0.20597503, -0.18641389, -0.20882768, -0.22948614, -0.24089436,\n",
        "       -0.23016629, -0.27512357, -0.2042056 , -0.19768252, -0.25744274,\n",
        "       -0.20672521, -0.23346341, -0.23239697, -0.22628495, -0.19054859]))\n",
        "Para el algoritmo de unshifted qr  los siguientes son sus resultados\n",
        "('El primer valor propios es:', 188.32400790123594)\n",
        "('El segundo valor propios es:', 8.0193221272343482)\n",
        "('El primer vector propio es:', array([ 0.22346471, -0.3370989 ,  0.01080327, -0.45807819, -0.20555681,\n",
        "        0.1162472 , -0.15948057,  0.06108099,  0.28605238, -0.21959198,\n",
        "       -0.23399132, -0.21919044, -0.19552796, -0.08137074, -0.11141932,\n",
        "        0.08768568,  0.20595716,  0.25909483, -0.03868156, -0.36428066]))\n",
        "('El segundo vector propio es:', array([ 0.21786955,  0.16630242, -0.03824866,  0.023134  , -0.1284524 ,\n",
        "       -0.12082475, -0.21438658, -0.22205023, -0.00709432, -0.26080099,\n",
        "        0.21848065, -0.06767068,  0.29828694, -0.43606894, -0.0668566 ,\n",
        "        0.07415581,  0.49809757,  0.02540507, -0.03042383,  0.3706194 ]))\n"
       ]
      },
      {
       "metadata": {},
       "output_type": "pyout",
       "prompt_number": 13,
       "text": [
        "(array([ 188.3240079 ,    8.01932213,    7.24367084,    6.29612476,\n",
        "          6.12723285,    5.04807681,    4.3301382 ,    4.35707678,\n",
        "          3.02277564,    4.03128044,    2.54151341,    2.70335316,\n",
        "          2.22783772,    2.59014386,    1.30435536,    1.05148489,\n",
        "          1.06062979,    0.96179261,    0.71815882,    0.48022403]),\n",
        " array([[  2.23464708e-01,  -3.37098904e-01,   1.08032722e-02,\n",
        "         -4.58078192e-01,  -2.05556810e-01,   1.16247203e-01,\n",
        "         -1.59480575e-01,   6.10809865e-02,   2.86052377e-01,\n",
        "         -2.19591982e-01,  -2.33991323e-01,  -2.19190442e-01,\n",
        "         -1.95527959e-01,  -8.13707366e-02,  -1.11419322e-01,\n",
        "          8.76856769e-02,   2.05957162e-01,   2.59094830e-01,\n",
        "         -3.86815615e-02,  -3.64280659e-01],\n",
        "       [  2.17869551e-01,   1.66302419e-01,  -3.82486573e-02,\n",
        "          2.31339980e-02,  -1.28452403e-01,  -1.20824753e-01,\n",
        "         -2.14386578e-01,  -2.22050228e-01,  -7.09432109e-03,\n",
        "         -2.60800987e-01,   2.18480654e-01,  -6.76706844e-02,\n",
        "          2.98286944e-01,  -4.36068942e-01,  -6.68565966e-02,\n",
        "          7.41558092e-02,   4.98097570e-01,   2.54050675e-02,\n",
        "         -3.04238276e-02,   3.70619405e-01],\n",
        "       [  2.27324654e-01,   2.96500234e-01,   1.73723904e-01,\n",
        "          9.15181431e-02,  -3.36845892e-02,   1.72979613e-01,\n",
        "          1.42396108e-01,  -3.56103736e-02,   2.50389853e-01,\n",
        "         -2.78425872e-01,  -6.54483331e-02,  -2.55851655e-02,\n",
        "         -1.29638309e-01,   1.74552803e-01,   9.99692160e-02,\n",
        "         -4.11884062e-01,  -8.44563236e-02,   8.89963381e-02,\n",
        "         -5.96376696e-01,   1.62679408e-01],\n",
        "       [  2.58367814e-01,  -1.97441231e-01,  -1.73097696e-02,\n",
        "          2.36049466e-01,  -9.69926179e-03,   3.67683563e-01,\n",
        "          4.66246485e-01,   3.10505119e-01,  -2.45523959e-01,\n",
        "         -1.61831555e-01,  -3.09851885e-01,   7.22552786e-03,\n",
        "          1.83356493e-01,  -9.88844673e-02,  -2.33316716e-01,\n",
        "          4.21399543e-02,   1.91603492e-02,   1.56200926e-01,\n",
        "          1.81746008e-01,   2.21855874e-01],\n",
        "       [  1.95448414e-01,  -1.02378184e-01,  -1.70435067e-02,\n",
        "         -2.16015607e-01,   2.43825372e-01,  -1.09266578e-01,\n",
        "         -9.64546419e-02,  -2.10374399e-01,  -4.32594430e-01,\n",
        "         -1.42387326e-01,  -2.68776176e-01,  -4.89543238e-01,\n",
        "          1.69692676e-01,  -4.86252225e-02,   2.82453920e-01,\n",
        "         -1.77158202e-01,  -2.53086949e-01,  -2.30864186e-01,\n",
        "         -1.01792275e-02,   1.81399303e-02],\n",
        "       [  2.05975035e-01,  -1.10037825e-02,  -3.87227060e-01,\n",
        "         -3.02502324e-01,   2.38379363e-01,   1.24881531e-01,\n",
        "          5.07478062e-02,  -1.58013943e-01,  -1.26273144e-01,\n",
        "         -3.10580912e-02,   3.44914331e-01,   2.93683018e-02,\n",
        "         -3.55089102e-02,   2.41392718e-01,  -3.79175260e-01,\n",
        "          3.55992462e-01,  -2.26261577e-01,   5.59195413e-02,\n",
        "         -2.69335349e-01,   1.49667352e-01],\n",
        "       [  1.86413883e-01,   4.78900133e-01,  -2.61227424e-02,\n",
        "         -4.56392386e-02,  -1.01560444e-01,  -2.77858943e-01,\n",
        "          1.52975506e-01,  -6.32736505e-02,  -4.66124616e-01,\n",
        "         -1.43177743e-01,  -2.04160550e-01,   2.64979072e-01,\n",
        "         -1.69375503e-01,   1.15346900e-01,  -3.86534735e-02,\n",
        "          1.10690007e-01,   2.17276159e-01,   9.50718451e-02,\n",
        "          5.31051618e-03,  -3.95640527e-01],\n",
        "       [  2.08827676e-01,  -4.45066678e-02,   1.83362472e-01,\n",
        "          1.77626621e-01,  -1.72083709e-02,   7.89441462e-02,\n",
        "         -5.55524690e-01,   4.38352729e-01,  -3.67159420e-01,\n",
        "         -3.26305922e-02,   2.78121312e-01,  -4.38824356e-02,\n",
        "         -2.81463979e-01,   1.06286677e-01,   7.58640188e-02,\n",
        "         -2.83170461e-02,  -6.22522020e-02,   2.31653835e-01,\n",
        "          3.23780993e-02,   1.05531537e-01],\n",
        "       [  2.29486136e-01,   1.71338442e-01,  -3.89423596e-01,\n",
        "         -1.22410290e-01,   3.51748666e-01,  -7.78744177e-02,\n",
        "          4.64804756e-02,   1.39509611e-01,   1.90972022e-01,\n",
        "          2.42245018e-01,  -2.69713839e-02,  -1.11737183e-01,\n",
        "         -2.13011392e-01,   1.53745725e-01,   7.15471148e-03,\n",
        "         -4.05162464e-01,   3.21802130e-01,   5.93076088e-02,\n",
        "          3.54708877e-01,   1.59536516e-01],\n",
        "       [  2.40894358e-01,   8.66065796e-02,  -7.22358072e-02,\n",
        "         -2.21987105e-01,  -4.86025597e-01,  -9.46780696e-02,\n",
        "         -7.54012848e-02,   1.09378960e-01,  -6.40334662e-02,\n",
        "          3.88905276e-01,  -6.55709921e-02,   1.29428845e-01,\n",
        "          8.12822918e-03,  -2.90537561e-01,  -3.25449368e-01,\n",
        "         -3.08010425e-01,  -3.20047467e-01,  -2.11704376e-01,\n",
        "         -4.49995946e-02,   7.87405297e-02],\n",
        "       [  2.30166294e-01,   8.91403586e-02,   3.08589618e-01,\n",
        "         -1.77392311e-01,   1.50223472e-01,  -2.21688636e-01,\n",
        "          1.07311857e-01,   4.47761939e-01,   2.09787527e-01,\n",
        "         -2.38619182e-01,   2.72554070e-01,   4.47066815e-03,\n",
        "          3.52187973e-01,   1.57772312e-01,  -1.09241821e-01,\n",
        "          2.51685572e-02,  -3.29506062e-02,  -3.74847772e-01,\n",
        "          1.21405981e-01,  -1.88613413e-01],\n",
        "       [  2.75123575e-01,  -1.84328194e-01,   3.33351301e-01,\n",
        "         -1.00520318e-02,   4.40318572e-01,  -8.87308841e-02,\n",
        "         -3.12484949e-02,   1.37861756e-02,   2.47243575e-02,\n",
        "          3.76657962e-01,  -2.46387768e-01,   2.73541498e-01,\n",
        "         -1.63122508e-01,  -2.20676866e-01,   3.10641432e-02,\n",
        "          2.32226914e-01,   1.89058520e-01,  -1.64713090e-01,\n",
        "         -3.10536025e-01,   9.30793303e-02],\n",
        "       [  2.04205595e-01,   1.88344902e-01,  -1.78879123e-01,\n",
        "         -1.56932779e-01,  -2.65488804e-02,   5.31247846e-01,\n",
        "         -2.05434574e-01,   1.94179051e-02,   5.05998718e-02,\n",
        "          1.49918549e-01,  -3.86336966e-02,   3.25972506e-01,\n",
        "          3.92625520e-01,   3.28427506e-02,   4.67588291e-01,\n",
        "          8.13448064e-02,  -1.04913661e-02,  -7.10671183e-03,\n",
        "          4.57990518e-02,  -1.58610162e-01],\n",
        "       [  1.97682523e-01,  -1.39848039e-01,   1.56200692e-01,\n",
        "          1.88275447e-01,   1.72884665e-01,  -8.64710740e-02,\n",
        "         -3.20066452e-01,  -4.16955733e-01,   1.30022053e-01,\n",
        "         -1.53857587e-01,  -1.64075967e-01,   3.40644365e-01,\n",
        "          1.89735735e-01,   1.90856854e-01,  -3.19578203e-01,\n",
        "         -2.24473145e-01,  -2.04825343e-01,   1.87173494e-01,\n",
        "          2.81816525e-01,  -5.44718041e-02],\n",
        "       [  2.57442740e-01,  -3.14927613e-01,  -2.54576471e-01,\n",
        "          1.47884736e-01,   5.45311668e-02,  -2.92377985e-01,\n",
        "          2.65731943e-01,   3.18026164e-03,   3.97510998e-02,\n",
        "         -1.02571653e-01,   3.44253451e-01,   2.14838271e-01,\n",
        "         -4.74035064e-02,  -3.49243887e-01,   3.42660930e-01,\n",
        "         -1.42124814e-01,  -2.08342561e-01,   2.32527772e-01,\n",
        "         -5.01748890e-02,  -2.24026703e-01],\n",
        "       [  2.06725216e-01,  -2.81909570e-01,  -3.78133671e-01,\n",
        "          3.24740756e-01,  -3.11643623e-01,  -2.22277401e-01,\n",
        "         -1.38141079e-01,   5.82960638e-02,   1.00302305e-01,\n",
        "         -9.07777512e-02,  -2.10601131e-01,   5.60719125e-02,\n",
        "         -2.16881518e-02,   3.89551733e-01,   1.27948195e-01,\n",
        "          1.68373436e-01,   1.24517616e-01,  -3.94220488e-01,\n",
        "         -1.23077873e-01,   1.07413894e-01],\n",
        "       [  2.33463414e-01,  -9.42921934e-02,   2.23316827e-01,\n",
        "          3.15070332e-02,  -1.39764940e-01,   3.64936962e-01,\n",
        "          1.79748683e-01,  -3.71754104e-01,  -6.29237421e-02,\n",
        "         -5.68962234e-02,   3.13182728e-01,   8.88427839e-03,\n",
        "         -4.11646854e-01,   1.22209675e-02,   4.82301151e-02,\n",
        "         -4.60116291e-02,   9.63442623e-02,  -4.27724275e-01,\n",
        "          2.95713846e-01,  -5.86106814e-02],\n",
        "       [  2.32396968e-01,   2.59006660e-02,   3.60026030e-02,\n",
        "          4.02191927e-01,  -3.03118292e-02,   6.12071056e-02,\n",
        "          3.38089218e-02,  -1.24642793e-01,  -2.08396719e-04,\n",
        "          4.39563739e-01,   1.63015344e-01,  -4.46626162e-01,\n",
        "          2.59183601e-01,   9.62091406e-02,  -1.74854250e-01,\n",
        "         -3.08834394e-03,   1.38760374e-01,   1.12436788e-01,\n",
        "         -1.67612584e-01,  -4.17912305e-01],\n",
        "       [  2.26284948e-01,   4.04795830e-01,  -3.48346718e-02,\n",
        "          2.25155704e-01,   3.18896713e-02,  -4.27436317e-02,\n",
        "         -5.59516482e-02,  -5.51007778e-04,   3.45249640e-01,\n",
        "         -5.10791163e-02,  -1.67651997e-01,  -2.36262753e-01,\n",
        "         -2.17998670e-01,  -2.31939543e-01,   6.13733358e-02,\n",
        "          4.40521731e-01,  -4.02923355e-01,   2.27242636e-02,\n",
        "          2.39604603e-01,   4.35768425e-02],\n",
        "       [  1.90548589e-01,  -6.32312501e-02,   3.21886856e-01,\n",
        "         -2.38851328e-01,  -2.90820533e-01,  -2.45782666e-01,\n",
        "          2.36199596e-01,  -1.42885936e-01,   2.30072414e-02,\n",
        "          2.54039965e-01,   5.40557725e-02,  -5.44302722e-02,\n",
        "          1.06262183e-01,   3.48813280e-01,   2.78911264e-01,\n",
        "          1.69964691e-01,  -3.12154229e-02,   3.52321874e-01,\n",
        "          1.54949876e-01,   3.43704619e-01]]))"
       ]
      }
     ],
     "prompt_number": 13
    },
    {
     "cell_type": "code",
     "collapsed": false,
     "input": [],
     "language": "python",
     "metadata": {},
     "outputs": [],
     "prompt_number": "*"
    }
   ],
   "metadata": {}
  }
 ]
}